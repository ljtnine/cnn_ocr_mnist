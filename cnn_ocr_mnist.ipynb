{
 "cells": [
  {
   "cell_type": "markdown",
   "metadata": {},
   "source": [
    "# 基于卷积神经网络的手写数字序列识别\n"
   ]
  },
  {
   "cell_type": "markdown",
   "metadata": {},
   "source": [
    "## 训练"
   ]
  },
  {
   "cell_type": "markdown",
   "metadata": {},
   "source": [
    "### 导入库"
   ]
  },
  {
   "cell_type": "code",
   "execution_count": null,
   "metadata": {
    "collapsed": true
   },
   "outputs": [],
   "source": [
    "import logging\n",
    "import random\n",
    "import sys\n",
    "from io import BytesIO\n",
    "import gzip\n",
    "import struct\n",
    "import mxnet as mx\n",
    "import numpy as np\n",
    "from captcha.image import ImageCaptcha\n",
    "from collections import namedtuple\n",
    "import matplotlib.pyplot as plt\n",
    "import cv2\n",
    "head = '%(asctime)-15s %(message)s'\n",
    "logging.basicConfig(level=logging.DEBUG, format=head)"
   ]
  },
  {
   "cell_type": "markdown",
   "metadata": {},
   "source": [
    "### 读取数据\n",
    "这块的功能是读取手写数字数据集（mnist），代码由mxnet官方教程提供"
   ]
  },
  {
   "cell_type": "code",
   "execution_count": null,
   "metadata": {
    "collapsed": true
   },
   "outputs": [],
   "source": [
    "def read_data(label_url, image_url):\n",
    "    with gzip.open(label_url) as flbl:\n",
    "        magic, num = struct.unpack(\">II\", flbl.read(8))\n",
    "        label = np.fromstring(flbl.read(), dtype=np.int8)\n",
    "    with gzip.open(image_url, 'rb') as fimg:\n",
    "        magic, num, rows, cols = struct.unpack(\">IIII\", fimg.read(16))\n",
    "        image = np.fromstring(fimg.read(), dtype=np.uint8).reshape(\n",
    "            len(label), rows, cols)\n",
    "    return (label, image)"
   ]
  },
  {
   "cell_type": "markdown",
   "metadata": {},
   "source": [
    "### 设置训练网络模型\n",
    "训练网络模型有四层卷积层和两层全链接层，第二层全链接层分三个分别识别三个数字"
   ]
  },
  {
   "cell_type": "code",
   "execution_count": null,
   "metadata": {
    "collapsed": true
   },
   "outputs": [],
   "source": [
    "def get_ocrtrain():\n",
    "    # 数据层\n",
    "    data = mx.symbol.Variable('data')\n",
    "    label = mx.symbol.Variable('softmax_label')\n",
    "    \n",
    "    # 卷积层一\n",
    "    conv1 = mx.symbol.Convolution(data=data, kernel=(5, 5), num_filter=32)\n",
    "    # 池化层一\n",
    "    pool1 = mx.symbol.Pooling(\n",
    "        data=conv1, pool_type=\"max\", kernel=(2, 2), stride=(1, 1))\n",
    "    # 激活层一\n",
    "    relu1 = mx.symbol.Activation(data=pool1, act_type=\"relu\")\n",
    "\n",
    "    # 卷积层二\n",
    "    conv2 = mx.symbol.Convolution(data=relu1, kernel=(5, 5), num_filter=32)\n",
    "    # 池化层二\n",
    "    pool2 = mx.symbol.Pooling(\n",
    "        data=conv2, pool_type=\"avg\", kernel=(2, 2), stride=(1, 1))\n",
    "    # 激活层二\n",
    "    relu2 = mx.symbol.Activation(data=pool2, act_type=\"relu\")\n",
    "\n",
    "    # 卷积层三\n",
    "    conv3 = mx.symbol.Convolution(data=relu2, kernel=(3, 3), num_filter=32)\n",
    "    # 池化层三\n",
    "    pool3 = mx.symbol.Pooling(\n",
    "        data=conv3, pool_type=\"avg\", kernel=(2, 2), stride=(1, 1))\n",
    "    # 激活层三\n",
    "    relu3 = mx.symbol.Activation(data=pool3, act_type=\"relu\")\n",
    "\n",
    "    # 卷积层四\n",
    "    conv4 = mx.symbol.Convolution(data=relu3, kernel=(3, 3), num_filter=32)\n",
    "    # 池化层四\n",
    "    pool4 = mx.symbol.Pooling(\n",
    "        data=conv4, pool_type=\"avg\", kernel=(2, 2), stride=(1, 1))\n",
    "    # 激活层四\n",
    "    relu4 = mx.symbol.Activation(data=pool4, act_type=\"relu\")\n",
    "\n",
    "    # 衔接层\n",
    "    flatten = mx.symbol.Flatten(data=relu4)\n",
    "    # 全链接层一\n",
    "    fc1 = mx.symbol.FullyConnected(data=flatten, num_hidden=256)\n",
    "    # 第一个数字的全链接层\n",
    "    fc21 = mx.symbol.FullyConnected(data=fc1, num_hidden=11)\n",
    "    # 第二个数字的全链接层\n",
    "    fc22 = mx.symbol.FullyConnected(data=fc1, num_hidden=11)\n",
    "    # 第三个数字的全链接层\n",
    "    fc23 = mx.symbol.FullyConnected(data=fc1, num_hidden=11)\n",
    "    # 联合层，将各个数字链接层的结果联合在一起\n",
    "    fc2 = mx.symbol.Concat(*[fc21, fc22, fc23], dim=0)\n",
    "    \n",
    "    # 标签处理层\n",
    "    label = mx.symbol.transpose(data=label)\n",
    "    label = mx.symbol.Reshape(data=label, target_shape=(0, ))\n",
    "    \n",
    "    # 输出层\n",
    "    SoftmaxOut = mx.symbol.SoftmaxOutput(data=fc2, label=label, name=\"softmax\")\n",
    "    return SoftmaxOut"
   ]
  },
  {
   "cell_type": "markdown",
   "metadata": {},
   "source": [
    "#### 网络可视化\n",
    "可视化整个网络"
   ]
  },
  {
   "cell_type": "code",
   "execution_count": null,
   "metadata": {
    "collapsed": false
   },
   "outputs": [],
   "source": [
    "network = get_ocrtrain()\n",
    "shape = {\"data\": (8, 1, 28, 84), \"softmax_label\": (8, 3)}\n",
    "g = mx.viz.plot_network(network, shape=shape).view(cleanup=True,filename='net')"
   ]
  },
  {
   "cell_type": "markdown",
   "metadata": {},
   "source": [
    "### 构建数据生成器\n",
    "继承mxnet提供的生成器接口，并且从手写数字数据集中随机生成拼接成连续数字"
   ]
  },
  {
   "cell_type": "markdown",
   "metadata": {},
   "source": [
    "#### 图像和标签的合成"
   ]
  },
  {
   "cell_type": "code",
   "execution_count": null,
   "metadata": {
    "collapsed": false
   },
   "outputs": [],
   "source": [
    "def Get_image_lable(img,lable):\n",
    "    x = [random.randint(0,9) for x in range(3)]\n",
    "    black = np.zeros((28,28),dtype='uint8')\n",
    "    for i in range(3):\n",
    "        if x[i] == 0:\n",
    "            img[:,i*28:(i+1)*28] = black\n",
    "            lable[i] = 10\n",
    "    return img,lable"
   ]
  },
  {
   "cell_type": "markdown",
   "metadata": {},
   "source": [
    "#### 迭代器"
   ]
  },
  {
   "cell_type": "code",
   "execution_count": null,
   "metadata": {
    "collapsed": true
   },
   "outputs": [],
   "source": [
    "class OCRIter(mx.io.DataIter):\n",
    "    def __init__(self, count, batch_size, num_label, height, width, lable, image):\n",
    "        super(OCRIter, self).__init__()\n",
    "\n",
    "        self.batch_size = batch_size\n",
    "        self.count = count\n",
    "        self.height = height\n",
    "        self.width = width\n",
    "        self.provide_data = [('data', (batch_size, 1, height, width))]\n",
    "        self.provide_label = [('softmax_label', (self.batch_size, num_label))]\n",
    "        self.lable = lable\n",
    "        self.image = image\n",
    "        self.num_label = num_label\n",
    "\n",
    "    def __iter__(self):\n",
    "        for k in range(self.count / self.batch_size):\n",
    "            data = []\n",
    "            label = []\n",
    "            for i in range(self.batch_size):\n",
    "                num = [random.randint(0, self.count - 1)\n",
    "                       for i in range(self.num_label)]\n",
    "                img, lab = Get_image_lable(np.hstack(\n",
    "                    (self.image[x] for x in num)), np.array([self.lable[x] for x in num]))        \n",
    "                img = np.multiply(img, 1 / 255.0)\n",
    "                data.append(img.reshape(1, self.height, self.width))\n",
    "                label.append(lab)\n",
    "\n",
    "            data_all = [mx.nd.array(data)]\n",
    "            label_all = [mx.nd.array(label)]\n",
    "            data_names = ['data']\n",
    "            label_names = ['softmax_label']\n",
    "\n",
    "            data_batch = OCRBatch(data_names, data_all, label_names, label_all)\n",
    "            yield data_batch\n",
    "\n",
    "    def reset(self):\n",
    "        pass"
   ]
  },
  {
   "cell_type": "markdown",
   "metadata": {},
   "source": [
    "#### 数据准备"
   ]
  },
  {
   "cell_type": "code",
   "execution_count": null,
   "metadata": {
    "collapsed": true
   },
   "outputs": [],
   "source": [
    "class OCRBatch(object):\n",
    "    def __init__(self, data_names, data, label_names, label):\n",
    "        self.data = data\n",
    "        self.label = label\n",
    "        self.data_names = data_names\n",
    "        self.label_names = label_names\n",
    "\n",
    "    @property\n",
    "    def provide_data(self):\n",
    "        return [(n, x.shape) for n, x in zip(self.data_names, self.data)]\n",
    "\n",
    "    @property\n",
    "    def provide_label(self):\n",
    "        return [(n, x.shape) for n, x in zip(self.label_names, self.label)]"
   ]
  },
  {
   "cell_type": "markdown",
   "metadata": {},
   "source": [
    "### 验证函数"
   ]
  },
  {
   "cell_type": "code",
   "execution_count": null,
   "metadata": {
    "collapsed": true
   },
   "outputs": [],
   "source": [
    "def Accuracy(label, pred):\n",
    "    label = label.T.reshape((-1, ))\n",
    "    hit = 0\n",
    "    total = 0\n",
    "    for i in range(pred.shape[0] / 3):\n",
    "        ok = True\n",
    "        for j in range(3):\n",
    "            k = i * 3 + j\n",
    "            if np.argmax(pred[k]) != int(label[k]):\n",
    "                ok = False\n",
    "        if ok:\n",
    "            hit += 1\n",
    "        total += 1\n",
    "    return 1.0 * hit / total"
   ]
  },
  {
   "cell_type": "markdown",
   "metadata": {},
   "source": [
    "### 训练"
   ]
  },
  {
   "cell_type": "code",
   "execution_count": null,
   "metadata": {
    "collapsed": false
   },
   "outputs": [],
   "source": [
    "# 设置计算平台\n",
    "devs = [mx.cpu(i) for i in range(1)]\n",
    "\n",
    "#_, arg_params, __ = mx.model.load_checkpoint(\"cnn-ocr-mnist\", 1)\n",
    "\n",
    "# 创建训练模型\n",
    "model = mx.mod.Module(network, context=devs)\n",
    "\n",
    "# 读取数据集\n",
    "(train_lable, train_image) = read_data(\n",
    "    'train-labels-idx1-ubyte.gz', 'train-images-idx3-ubyte.gz')\n",
    "(test_lable, test_image) = read_data(\n",
    "    't10k-labels-idx1-ubyte.gz', 't10k-images-idx3-ubyte.gz')\n",
    "\n",
    "# 构建数据生成器\n",
    "batch_size = 8\n",
    "data_train = OCRIter(60000, batch_size, 3, 28,\n",
    "                     84, train_lable, train_image)\n",
    "data_test = OCRIter(5000, batch_size, 3, 28, 84, test_lable, test_image)\n",
    "\n",
    "# 训练\n",
    "model.fit(\n",
    "    data_train,\n",
    "    eval_data=data_test,\n",
    "    num_epoch=1,\n",
    "    optimizer='sgd',\n",
    "    eval_metric=Accuracy,\n",
    "    #arg_params=arg_params,\n",
    "    initializer=mx.init.Xavier(factor_type=\"in\", magnitude=2.34),\n",
    "    optimizer_params={'learning_rate': 0.001, 'wd': 0.00001},\n",
    "    batch_end_callback=mx.callback.Speedometer(batch_size, 50),\n",
    ")\n",
    "# 保存训练模型\n",
    "model.save_checkpoint(prefix=\"cnn-ocr-mnist\", epoch=2)"
   ]
  },
  {
   "cell_type": "markdown",
   "metadata": {},
   "source": [
    "## 识别"
   ]
  },
  {
   "cell_type": "markdown",
   "metadata": {},
   "source": [
    "### 创建识别网络\n",
    "因为训练网络需要提供标签，而识别的时候不需要提供标签，所以重写了识别网络，也就是去掉了标签相关层，并且在最后加了层组合层，将每层卷积层处理后的结果也一并返回"
   ]
  },
  {
   "cell_type": "code",
   "execution_count": null,
   "metadata": {
    "collapsed": true
   },
   "outputs": [],
   "source": [
    "def get_predictnet():\n",
    "    # 数据层\n",
    "    data = mx.symbol.Variable('data')\n",
    "    \n",
    "    # 卷积层一\n",
    "    conv1 = mx.symbol.Convolution(data=data, kernel=(5, 5), num_filter=32)\n",
    "    # 池化层一\n",
    "    pool1 = mx.symbol.Pooling(\n",
    "        data=conv1, pool_type=\"max\", kernel=(2, 2), stride=(1, 1))\n",
    "    # 激活层一\n",
    "    relu1 = mx.symbol.Activation(data=pool1, act_type=\"relu\")\n",
    "\n",
    "    # 卷积层二\n",
    "    conv2 = mx.symbol.Convolution(data=relu1, kernel=(5, 5), num_filter=32)\n",
    "    # 池化层二\n",
    "    pool2 = mx.symbol.Pooling(\n",
    "        data=conv2, pool_type=\"avg\", kernel=(2, 2), stride=(1, 1))\n",
    "    # 激活层二\n",
    "    relu2 = mx.symbol.Activation(data=pool2, act_type=\"relu\")\n",
    "\n",
    "    # 卷积层三\n",
    "    conv3 = mx.symbol.Convolution(data=relu2, kernel=(3, 3), num_filter=32)\n",
    "    # 池化层三\n",
    "    pool3 = mx.symbol.Pooling(\n",
    "        data=conv3, pool_type=\"avg\", kernel=(2, 2), stride=(1, 1))\n",
    "    # 激活层三\n",
    "    relu3 = mx.symbol.Activation(data=pool3, act_type=\"relu\")\n",
    "\n",
    "    # 卷积层四\n",
    "    conv4 = mx.symbol.Convolution(data=relu3, kernel=(3, 3), num_filter=32)\n",
    "    # 池化层四\n",
    "    pool4 = mx.symbol.Pooling(\n",
    "        data=conv4, pool_type=\"avg\", kernel=(2, 2), stride=(1, 1))\n",
    "    # 激活层四\n",
    "    relu4 = mx.symbol.Activation(data=pool4, act_type=\"relu\")\n",
    "\n",
    "    # 衔接层\n",
    "    flatten = mx.symbol.Flatten(data=relu4)\n",
    "    # 全链接层一\n",
    "    fc1 = mx.symbol.FullyConnected(data=flatten, num_hidden=256)\n",
    "    # 第一个数字的全链接层\n",
    "    fc21 = mx.symbol.FullyConnected(data=fc1, num_hidden=11)\n",
    "    # 第二个数字的全链接层\n",
    "    fc22 = mx.symbol.FullyConnected(data=fc1, num_hidden=11)\n",
    "    # 第三个数字的全链接层\n",
    "    fc23 = mx.symbol.FullyConnected(data=fc1, num_hidden=11)\n",
    "    # 联合层，将各个数字链接层的结果联合在一起\n",
    "    fc2 = mx.symbol.Concat(*[fc21, fc22, fc23], dim=0)\n",
    "\n",
    "    \n",
    "    # 输出层\n",
    "    SoftmaxOut = mx.symbol.SoftmaxOutput(data=fc2, name=\"softmax\")\n",
    "    out = mx.symbol.Group([SoftmaxOut, conv1, conv2, conv3, conv4])\n",
    "\n",
    "    return out\n"
   ]
  },
  {
   "cell_type": "markdown",
   "metadata": {},
   "source": [
    "### 获取图像\n",
    "随机组合手写数字，并将图像处理适合网络输入"
   ]
  },
  {
   "cell_type": "code",
   "execution_count": null,
   "metadata": {
    "collapsed": false
   },
   "outputs": [],
   "source": [
    "def get_image():\n",
    "    (lable, image) = read_data(\n",
    "        't10k-labels-idx1-ubyte.gz', 't10k-images-idx3-ubyte.gz')\n",
    "\n",
    "    num = [random.randint(0, 5000 - 1)\n",
    "           for i in range(3)]\n",
    "    \n",
    "    img, _ = Get_image_lable(np.hstack(\n",
    "                    (image[x] for x in num)), np.array([lable[x] for x in num]))\n",
    "\n",
    "    imgw = 255 - img\n",
    "    cv2.imwrite(\"img.jpg\", imgw)\n",
    "    img = np.multiply(img, 1 / 255.0)\n",
    "    img = img.reshape(1, 1, 28, 84)\n",
    "    return img"
   ]
  },
  {
   "cell_type": "markdown",
   "metadata": {},
   "source": [
    "### 加载模型设置参数"
   ]
  },
  {
   "cell_type": "code",
   "execution_count": null,
   "metadata": {
    "collapsed": false
   },
   "outputs": [],
   "source": [
    "_, arg_params, aux_params = mx.model.load_checkpoint(\"cnn-ocr-mnist\", 1)\n",
    "net = get_predictnet()\n",
    "\n",
    "predictmod = mx.mod.Module(symbol=net, context=mx.cpu())\n",
    "predictmod.bind(data_shapes=[('data', (1, 1, 28, 84))])\n",
    "predictmod.set_params(arg_params, aux_params)\n",
    "Batch = namedtuple('Batch', ['data'])\n"
   ]
  },
  {
   "cell_type": "markdown",
   "metadata": {},
   "source": [
    "### 处理识别结果"
   ]
  },
  {
   "cell_type": "code",
   "execution_count": null,
   "metadata": {
    "collapsed": false
   },
   "outputs": [],
   "source": [
    "def predict(out):\n",
    "    \n",
    "    prob = out[0].asnumpy()\n",
    "\n",
    "    for n in range(4):\n",
    "        cnnout = out[n + 1].asnumpy()\n",
    "        width = int(np.shape(cnnout[0])[1])\n",
    "        height = int(np.shape(cnnout[0])[2])\n",
    "        cimg = np.zeros((width * 8 + 80, height * 4 + 40), dtype=float)\n",
    "        cimg = cimg + 255\n",
    "        k = 0\n",
    "        for i in range(4):\n",
    "            for j in range(8):\n",
    "                cg = cnnout[0][k]\n",
    "                cg = cg.reshape(width, height)\n",
    "                cg = np.multiply(cg, 255)\n",
    "                k = k + 1\n",
    "                gm = np.zeros((width + 10, height + 10), dtype=float)\n",
    "                gm = gm + 255\n",
    "                gm[0:width, 0:height] = cg\n",
    "                cimg[j * (width + 10):(j + 1) * (width + 10), i *\n",
    "                     (height + 10):(i + 1) * (height + 10)] = gm\n",
    "        cv2.imwrite(\"c\" + str(n) + \".jpg\", cimg)\n",
    "        \n",
    "    line = ''\n",
    "    for i in range(prob.shape[0]):\n",
    "        line += str(np.argmax(prob[i]) if int(np.argmax(prob[i]))!=10 else ' ')\n",
    "    return line"
   ]
  },
  {
   "cell_type": "markdown",
   "metadata": {},
   "source": [
    "### 识别"
   ]
  },
  {
   "cell_type": "code",
   "execution_count": null,
   "metadata": {
    "collapsed": false,
    "scrolled": false
   },
   "outputs": [],
   "source": [
    "img = get_image()\n",
    "\n",
    "predictmod.forward(Batch([mx.nd.array(img)]),is_train=False)\n",
    "out = predictmod.get_outputs()\n",
    "\n",
    "line = predict(out)\n",
    "\n",
    "\n",
    "plt.imshow(cv2.imread('img.jpg'), cmap='Greys_r')\n",
    "plt.axis('off')\n",
    "plt.show()\n",
    "print '预测结果：\\''+line+'\\''\n",
    "for i in range(4):\n",
    "    plt.imshow(cv2.imread('c'+str(i)+'.jpg'), cmap='Greys_r')\n",
    "    plt.axis('off')\n",
    "    plt.show()"
   ]
  },
  {
   "cell_type": "markdown",
   "metadata": {},
   "source": [
    "#### 开启web服务"
   ]
  },
  {
   "cell_type": "code",
   "execution_count": null,
   "metadata": {
    "collapsed": false
   },
   "outputs": [],
   "source": [
    "import BaseHTTPServer\n",
    "import CGIHTTPServer\n",
    "\n",
    "HOST = ''\n",
    "PORT = 8000\n",
    "\n",
    "# Create the server, CGIHTTPRequestHandler is pre-defined handler\n",
    "server = BaseHTTPServer.HTTPServer(\n",
    "    (HOST, PORT), CGIHTTPServer.CGIHTTPRequestHandler)\n",
    "# Start the server\n",
    "server.serve_forever()"
   ]
  }
 ],
 "metadata": {
  "anaconda-cloud": {},
  "kernelspec": {
   "display_name": "Python [default]",
   "language": "python",
   "name": "python2"
  },
  "language_info": {
   "codemirror_mode": {
    "name": "ipython",
    "version": 2
   },
   "file_extension": ".py",
   "mimetype": "text/x-python",
   "name": "python",
   "nbconvert_exporter": "python",
   "pygments_lexer": "ipython2",
   "version": "2.7.12"
  }
 },
 "nbformat": 4,
 "nbformat_minor": 1
}
